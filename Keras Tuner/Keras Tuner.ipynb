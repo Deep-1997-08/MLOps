{
  "nbformat": 4,
  "nbformat_minor": 0,
  "metadata": {
    "accelerator": "GPU",
    "colab": {
      "private_outputs": true,
      "provenance": [],
      "toc_visible": true
    },
    "kernelspec": {
      "display_name": "Python 3",
      "name": "python3"
    }
  },
  "cells": [
    {
      "cell_type": "code",
      "metadata": {
        "id": "ysAmHLZoDld7"
      },
      "source": [
        "from tensorflow import keras"
      ],
      "execution_count": null,
      "outputs": []
    },
    {
      "cell_type": "code",
      "metadata": {
        "id": "OHlHs9Wj_PUM"
      },
      "source": [
        "(img_train, label_train), (img_test, label_test) = keras.datasets.fashion_mnist.load_data()"
      ],
      "execution_count": null,
      "outputs": []
    },
    {
      "cell_type": "code",
      "metadata": {
        "id": "bLVhXs3xrUD0"
      },
      "source": [
        "img_train = img_train.astype('float32') / 255.0\n",
        "img_test = img_test.astype('float32') / 255.0"
      ],
      "execution_count": null,
      "outputs": []
    },
    {
      "cell_type": "code",
      "metadata": {
        "id": "sqbYwwukkA6z"
      },
      "source": [
        "b_model = keras.Sequential()\n",
        "b_model.add(keras.layers.Flatten(input_shape=(28, 28)))\n",
        "b_model.add(keras.layers.Dense(units=512, activation='relu', name='dense_1'))\n",
        "b_model.add(keras.layers.Dropout(0.2))\n",
        "b_model.add(keras.layers.Dense(10, activation='softmax'))\n",
        "\n",
        "b_model.summary()"
      ],
      "execution_count": null,
      "outputs": []
    },
    {
      "cell_type": "code",
      "metadata": {
        "id": "Lp58Ety3pLj2"
      },
      "source": [
        "b_model.compile(optimizer=keras.optimizers.Adam(learning_rate=0.001),\n",
        "            loss=keras.losses.SparseCategoricalCrossentropy(),\n",
        "            metrics=['accuracy'])"
      ],
      "execution_count": null,
      "outputs": []
    },
    {
      "cell_type": "code",
      "metadata": {
        "id": "K1JjZ-FdLXZ3"
      },
      "source": [
        "NUM_EPOCHS = 10\n",
        "\n",
        "b_model.fit(img_train, label_train, epochs=NUM_EPOCHS, validation_split=0.2)"
      ],
      "execution_count": null,
      "outputs": []
    },
    {
      "cell_type": "code",
      "metadata": {
        "id": "kBnZ2tFbpxgC"
      },
      "source": [
        "b_eval_dict = b_model.evaluate(img_test, label_test, return_dict=True)"
      ],
      "execution_count": null,
      "outputs": []
    },
    {
      "cell_type": "code",
      "metadata": {
        "id": "Vt2dWs0NxnUn"
      },
      "source": [
        "def print_results(model, model_name, layer_name, eval_dict):\n",
        "  print(f'\\n{model_name}:')\n",
        "\n",
        "  print(f'number of units in 1st Dense layer: {model.get_layer(layer_name).units}')\n",
        "  print(f'learning rate for the optimizer: {model.optimizer.lr.numpy()}')\n",
        "\n",
        "  for key,value in eval_dict.items():\n",
        "    print(f'{key}: {value}')\n",
        "\n",
        "print_results(b_model, 'BASELINE MODEL', 'dense_1', b_eval_dict)"
      ],
      "execution_count": null,
      "outputs": []
    },
    {
      "cell_type": "code",
      "metadata": {
        "id": "hpMLpbt9jcO6"
      },
      "source": [
        "!pip install -q -U keras-tuner"
      ],
      "execution_count": null,
      "outputs": []
    },
    {
      "cell_type": "code",
      "metadata": {
        "id": "_leAIdFKAxAD"
      },
      "source": [
        "import tensorflow as tf\n",
        "import keras_tuner as kt"
      ],
      "execution_count": null,
      "outputs": []
    },
    {
      "cell_type": "code",
      "metadata": {
        "id": "ZQKodC-jtsva"
      },
      "source": [
        "def model_builder(hp):\n",
        "  model = keras.Sequential()\n",
        "  model.add(keras.layers.Flatten(input_shape=(28, 28)))\n",
        "  hp_units = hp.Int('units', min_value=32, max_value=512, step=32)\n",
        "  model.add(keras.layers.Dense(units=hp_units, activation='relu', name='tuned_dense_1'))\n",
        "\n",
        "  model.add(keras.layers.Dropout(0.2))\n",
        "  model.add(keras.layers.Dense(10, activation='softmax'))\n",
        "\n",
        "  hp_learning_rate = hp.Choice('learning_rate', values=[1e-2, 1e-3, 1e-4])\n",
        "\n",
        "  model.compile(optimizer=keras.optimizers.Adam(learning_rate=hp_learning_rate),\n",
        "                loss=keras.losses.SparseCategoricalCrossentropy(),\n",
        "                metrics=['accuracy'])\n",
        "\n",
        "  return model"
      ],
      "execution_count": null,
      "outputs": []
    },
    {
      "cell_type": "code",
      "metadata": {
        "id": "oichQFly6Y46"
      },
      "source": [
        "tuner = kt.Hyperband(model_builder,\n",
        "                     objective='val_accuracy',\n",
        "                     max_epochs=10,\n",
        "                     factor=3,\n",
        "                     directory='kt_dir',\n",
        "                     project_name='kt_hyperband')"
      ],
      "execution_count": null,
      "outputs": []
    },
    {
      "cell_type": "code",
      "metadata": {
        "id": "WT9IkS9NEjLc"
      },
      "source": [
        "stop_early = tf.keras.callbacks.EarlyStopping(monitor='val_loss', patience=5)"
      ],
      "execution_count": null,
      "outputs": []
    },
    {
      "cell_type": "code",
      "metadata": {
        "id": "dSBQcTHF9cKt"
      },
      "source": [
        "tuner.search(img_train, label_train, epochs=NUM_EPOCHS, validation_split=0.2, callbacks=[stop_early])"
      ],
      "execution_count": null,
      "outputs": []
    },
    {
      "cell_type": "code",
      "metadata": {
        "id": "iG0zIuP5WuTI"
      },
      "source": [
        "\\best_hps=tuner.get_best_hyperparameters()[0]\n",
        "\n",
        "print(f\"\"\"\n",
        "The hyperparameter search is complete. The optimal number of units in the first densely-connected\n",
        "layer is {best_hps.get('units')} and the optimal learning rate for the optimizer\n",
        "is {best_hps.get('learning_rate')}.\n",
        "\"\"\")"
      ],
      "execution_count": null,
      "outputs": []
    },
    {
      "cell_type": "code",
      "metadata": {
        "id": "McO82AXOuxXh"
      },
      "source": [
        "h_model = tuner.hypermodel.build(best_hps)\n",
        "h_model.summary()"
      ],
      "execution_count": null,
      "outputs": []
    },
    {
      "cell_type": "code",
      "metadata": {
        "id": "l64WP7Rau1lm"
      },
      "source": [
        "h_model.fit(img_train, label_train, epochs=NUM_EPOCHS, validation_split=0.2)"
      ],
      "execution_count": null,
      "outputs": []
    },
    {
      "cell_type": "markdown",
      "metadata": {
        "id": "MqU5ZVAaag2v"
      },
      "source": [
        "You will then get its performance against the test set."
      ]
    },
    {
      "cell_type": "code",
      "metadata": {
        "id": "9E0BTp9Ealjb"
      },
      "source": [
        "h_eval_dict = h_model.evaluate(img_test, label_test, return_dict=True)"
      ],
      "execution_count": null,
      "outputs": []
    },
    {
      "cell_type": "code",
      "metadata": {
        "id": "BjVYPOw6MH5d"
      },
      "source": [
        "print_results(b_model, 'BASELINE MODEL', 'dense_1', b_eval_dict)\n",
        "print_results(h_model, 'HYPERTUNED MODEL', 'tuned_dense_1', h_eval_dict)"
      ],
      "execution_count": null,
      "outputs": []
    }
  ]
}